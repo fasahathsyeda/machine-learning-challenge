{
 "cells": [
  {
   "cell_type": "code",
   "execution_count": 1,
   "metadata": {},
   "outputs": [
    {
     "name": "stdout",
     "output_type": "stream",
     "text": [
      "Collecting sklearn\n",
      "  Downloading sklearn-0.0.tar.gz (1.1 kB)\n",
      "Requirement already satisfied, skipping upgrade: scikit-learn in c:\\users\\syeda\\anaconda3\\lib\\site-packages (from sklearn) (0.23.1)\n",
      "Requirement already satisfied, skipping upgrade: scipy>=0.19.1 in c:\\users\\syeda\\anaconda3\\lib\\site-packages (from scikit-learn->sklearn) (1.5.0)\n",
      "Requirement already satisfied, skipping upgrade: numpy>=1.13.3 in c:\\users\\syeda\\anaconda3\\lib\\site-packages (from scikit-learn->sklearn) (1.19.5)\n",
      "Requirement already satisfied, skipping upgrade: threadpoolctl>=2.0.0 in c:\\users\\syeda\\anaconda3\\lib\\site-packages (from scikit-learn->sklearn) (2.1.0)\n",
      "Requirement already satisfied, skipping upgrade: joblib>=0.11 in c:\\users\\syeda\\anaconda3\\lib\\site-packages (from scikit-learn->sklearn) (0.16.0)\n",
      "Building wheels for collected packages: sklearn\n",
      "  Building wheel for sklearn (setup.py): started\n",
      "  Building wheel for sklearn (setup.py): finished with status 'done'\n",
      "  Created wheel for sklearn: filename=sklearn-0.0-py2.py3-none-any.whl size=1316 sha256=13b4d40947390aa7c7f8ab5a70b94c02b771ea5795f1e5ceb612b0cf24b98810\n",
      "  Stored in directory: c:\\users\\syeda\\appdata\\local\\pip\\cache\\wheels\\22\\0b\\40\\fd3f795caaa1fb4c6cb738bc1f56100be1e57da95849bfc897\n",
      "Successfully built sklearn\n",
      "Installing collected packages: sklearn\n",
      "Successfully installed sklearn-0.0\n"
     ]
    }
   ],
   "source": [
    "# Update sklearn to prevent version mismatches\n",
    "!pip install sklearn --upgrade"
   ]
  },
  {
   "cell_type": "code",
   "execution_count": 2,
   "metadata": {},
   "outputs": [
    {
     "name": "stdout",
     "output_type": "stream",
     "text": [
      "Requirement already satisfied: joblib in c:\\users\\syeda\\anaconda3\\lib\\site-packages (0.16.0)\n"
     ]
    }
   ],
   "source": [
    "# install joblib. This will be used to save your model. \n",
    "# Restart your kernel after installing \n",
    "!pip install joblib"
   ]
  },
  {
   "cell_type": "code",
   "execution_count": 2,
   "metadata": {},
   "outputs": [],
   "source": [
    "import pandas as pd"
   ]
  },
  {
   "cell_type": "markdown",
   "metadata": {},
   "source": [
    "# Read the CSV and Perform Basic Data Cleaning"
   ]
  },
  {
   "cell_type": "code",
   "execution_count": 3,
   "metadata": {},
   "outputs": [
    {
     "data": {
      "text/html": [
       "<div>\n",
       "<style scoped>\n",
       "    .dataframe tbody tr th:only-of-type {\n",
       "        vertical-align: middle;\n",
       "    }\n",
       "\n",
       "    .dataframe tbody tr th {\n",
       "        vertical-align: top;\n",
       "    }\n",
       "\n",
       "    .dataframe thead th {\n",
       "        text-align: right;\n",
       "    }\n",
       "</style>\n",
       "<table border=\"1\" class=\"dataframe\">\n",
       "  <thead>\n",
       "    <tr style=\"text-align: right;\">\n",
       "      <th></th>\n",
       "      <th>koi_disposition</th>\n",
       "      <th>koi_fpflag_nt</th>\n",
       "      <th>koi_fpflag_ss</th>\n",
       "      <th>koi_fpflag_co</th>\n",
       "      <th>koi_fpflag_ec</th>\n",
       "      <th>koi_period</th>\n",
       "      <th>koi_period_err1</th>\n",
       "      <th>koi_period_err2</th>\n",
       "      <th>koi_time0bk</th>\n",
       "      <th>koi_time0bk_err1</th>\n",
       "      <th>...</th>\n",
       "      <th>koi_steff_err2</th>\n",
       "      <th>koi_slogg</th>\n",
       "      <th>koi_slogg_err1</th>\n",
       "      <th>koi_slogg_err2</th>\n",
       "      <th>koi_srad</th>\n",
       "      <th>koi_srad_err1</th>\n",
       "      <th>koi_srad_err2</th>\n",
       "      <th>ra</th>\n",
       "      <th>dec</th>\n",
       "      <th>koi_kepmag</th>\n",
       "    </tr>\n",
       "  </thead>\n",
       "  <tbody>\n",
       "    <tr>\n",
       "      <th>0</th>\n",
       "      <td>CONFIRMED</td>\n",
       "      <td>0</td>\n",
       "      <td>0</td>\n",
       "      <td>0</td>\n",
       "      <td>0</td>\n",
       "      <td>54.418383</td>\n",
       "      <td>2.479000e-04</td>\n",
       "      <td>-2.479000e-04</td>\n",
       "      <td>162.513840</td>\n",
       "      <td>0.003520</td>\n",
       "      <td>...</td>\n",
       "      <td>-81</td>\n",
       "      <td>4.467</td>\n",
       "      <td>0.064</td>\n",
       "      <td>-0.096</td>\n",
       "      <td>0.927</td>\n",
       "      <td>0.105</td>\n",
       "      <td>-0.061</td>\n",
       "      <td>291.93423</td>\n",
       "      <td>48.141651</td>\n",
       "      <td>15.347</td>\n",
       "    </tr>\n",
       "    <tr>\n",
       "      <th>1</th>\n",
       "      <td>FALSE POSITIVE</td>\n",
       "      <td>0</td>\n",
       "      <td>1</td>\n",
       "      <td>0</td>\n",
       "      <td>0</td>\n",
       "      <td>19.899140</td>\n",
       "      <td>1.490000e-05</td>\n",
       "      <td>-1.490000e-05</td>\n",
       "      <td>175.850252</td>\n",
       "      <td>0.000581</td>\n",
       "      <td>...</td>\n",
       "      <td>-176</td>\n",
       "      <td>4.544</td>\n",
       "      <td>0.044</td>\n",
       "      <td>-0.176</td>\n",
       "      <td>0.868</td>\n",
       "      <td>0.233</td>\n",
       "      <td>-0.078</td>\n",
       "      <td>297.00482</td>\n",
       "      <td>48.134129</td>\n",
       "      <td>15.436</td>\n",
       "    </tr>\n",
       "    <tr>\n",
       "      <th>2</th>\n",
       "      <td>FALSE POSITIVE</td>\n",
       "      <td>0</td>\n",
       "      <td>1</td>\n",
       "      <td>0</td>\n",
       "      <td>0</td>\n",
       "      <td>1.736952</td>\n",
       "      <td>2.630000e-07</td>\n",
       "      <td>-2.630000e-07</td>\n",
       "      <td>170.307565</td>\n",
       "      <td>0.000115</td>\n",
       "      <td>...</td>\n",
       "      <td>-174</td>\n",
       "      <td>4.564</td>\n",
       "      <td>0.053</td>\n",
       "      <td>-0.168</td>\n",
       "      <td>0.791</td>\n",
       "      <td>0.201</td>\n",
       "      <td>-0.067</td>\n",
       "      <td>285.53461</td>\n",
       "      <td>48.285210</td>\n",
       "      <td>15.597</td>\n",
       "    </tr>\n",
       "    <tr>\n",
       "      <th>3</th>\n",
       "      <td>CONFIRMED</td>\n",
       "      <td>0</td>\n",
       "      <td>0</td>\n",
       "      <td>0</td>\n",
       "      <td>0</td>\n",
       "      <td>2.525592</td>\n",
       "      <td>3.760000e-06</td>\n",
       "      <td>-3.760000e-06</td>\n",
       "      <td>171.595550</td>\n",
       "      <td>0.001130</td>\n",
       "      <td>...</td>\n",
       "      <td>-211</td>\n",
       "      <td>4.438</td>\n",
       "      <td>0.070</td>\n",
       "      <td>-0.210</td>\n",
       "      <td>1.046</td>\n",
       "      <td>0.334</td>\n",
       "      <td>-0.133</td>\n",
       "      <td>288.75488</td>\n",
       "      <td>48.226200</td>\n",
       "      <td>15.509</td>\n",
       "    </tr>\n",
       "    <tr>\n",
       "      <th>4</th>\n",
       "      <td>CONFIRMED</td>\n",
       "      <td>0</td>\n",
       "      <td>0</td>\n",
       "      <td>0</td>\n",
       "      <td>0</td>\n",
       "      <td>4.134435</td>\n",
       "      <td>1.050000e-05</td>\n",
       "      <td>-1.050000e-05</td>\n",
       "      <td>172.979370</td>\n",
       "      <td>0.001900</td>\n",
       "      <td>...</td>\n",
       "      <td>-232</td>\n",
       "      <td>4.486</td>\n",
       "      <td>0.054</td>\n",
       "      <td>-0.229</td>\n",
       "      <td>0.972</td>\n",
       "      <td>0.315</td>\n",
       "      <td>-0.105</td>\n",
       "      <td>296.28613</td>\n",
       "      <td>48.224670</td>\n",
       "      <td>15.714</td>\n",
       "    </tr>\n",
       "  </tbody>\n",
       "</table>\n",
       "<p>5 rows × 41 columns</p>\n",
       "</div>"
      ],
      "text/plain": [
       "  koi_disposition  koi_fpflag_nt  koi_fpflag_ss  koi_fpflag_co  koi_fpflag_ec  \\\n",
       "0       CONFIRMED              0              0              0              0   \n",
       "1  FALSE POSITIVE              0              1              0              0   \n",
       "2  FALSE POSITIVE              0              1              0              0   \n",
       "3       CONFIRMED              0              0              0              0   \n",
       "4       CONFIRMED              0              0              0              0   \n",
       "\n",
       "   koi_period  koi_period_err1  koi_period_err2  koi_time0bk  \\\n",
       "0   54.418383     2.479000e-04    -2.479000e-04   162.513840   \n",
       "1   19.899140     1.490000e-05    -1.490000e-05   175.850252   \n",
       "2    1.736952     2.630000e-07    -2.630000e-07   170.307565   \n",
       "3    2.525592     3.760000e-06    -3.760000e-06   171.595550   \n",
       "4    4.134435     1.050000e-05    -1.050000e-05   172.979370   \n",
       "\n",
       "   koi_time0bk_err1  ...  koi_steff_err2  koi_slogg  koi_slogg_err1  \\\n",
       "0          0.003520  ...             -81      4.467           0.064   \n",
       "1          0.000581  ...            -176      4.544           0.044   \n",
       "2          0.000115  ...            -174      4.564           0.053   \n",
       "3          0.001130  ...            -211      4.438           0.070   \n",
       "4          0.001900  ...            -232      4.486           0.054   \n",
       "\n",
       "   koi_slogg_err2  koi_srad  koi_srad_err1  koi_srad_err2         ra  \\\n",
       "0          -0.096     0.927          0.105         -0.061  291.93423   \n",
       "1          -0.176     0.868          0.233         -0.078  297.00482   \n",
       "2          -0.168     0.791          0.201         -0.067  285.53461   \n",
       "3          -0.210     1.046          0.334         -0.133  288.75488   \n",
       "4          -0.229     0.972          0.315         -0.105  296.28613   \n",
       "\n",
       "         dec  koi_kepmag  \n",
       "0  48.141651      15.347  \n",
       "1  48.134129      15.436  \n",
       "2  48.285210      15.597  \n",
       "3  48.226200      15.509  \n",
       "4  48.224670      15.714  \n",
       "\n",
       "[5 rows x 41 columns]"
      ]
     },
     "execution_count": 3,
     "metadata": {},
     "output_type": "execute_result"
    }
   ],
   "source": [
    "df = pd.read_csv(\"exoplanet_data.csv\")\n",
    "# Drop the null columns where all values are null\n",
    "df = df.dropna(axis='columns', how='all')\n",
    "# Drop the null rows\n",
    "df = df.dropna()\n",
    "df.head()"
   ]
  },
  {
   "cell_type": "code",
   "execution_count": 4,
   "metadata": {},
   "outputs": [
    {
     "data": {
      "text/plain": [
       "0            CONFIRMED\n",
       "1       False_Positive\n",
       "2       False_Positive\n",
       "3            CONFIRMED\n",
       "4            CONFIRMED\n",
       "             ...      \n",
       "6986    False_Positive\n",
       "6987    False_Positive\n",
       "6988         CANDIDATE\n",
       "6989    False_Positive\n",
       "6990    False_Positive\n",
       "Name: koi_disposition, Length: 6991, dtype: object"
      ]
     },
     "execution_count": 4,
     "metadata": {},
     "output_type": "execute_result"
    }
   ],
   "source": [
    "# Remove the space for 'FALSE POSITIVE'\n",
    "new = df[\"koi_disposition\"] == \"FALSE POSITIVE\"\n",
    "df.loc[new, \"koi_disposition\"] = \"False_Positive\"\n",
    "df[\"koi_disposition\"]"
   ]
  },
  {
   "cell_type": "markdown",
   "metadata": {},
   "source": [
    "# Select your features (columns)"
   ]
  },
  {
   "cell_type": "code",
   "execution_count": 5,
   "metadata": {},
   "outputs": [
    {
     "name": "stdout",
     "output_type": "stream",
     "text": [
      "(6991, 40) (6991,)\n"
     ]
    }
   ],
   "source": [
    "# Asssign the X and y values\n",
    "X = df.drop(\"koi_disposition\", axis=1)\n",
    "y = df[\"koi_disposition\"]\n",
    "print(X.shape, y.shape)"
   ]
  },
  {
   "cell_type": "markdown",
   "metadata": {},
   "source": [
    "# Create a Train Test Split\n",
    "\n",
    "Use `koi_disposition` for the y values"
   ]
  },
  {
   "cell_type": "code",
   "execution_count": 6,
   "metadata": {},
   "outputs": [],
   "source": [
    "# Split the data into training and testing data\n",
    "from sklearn.model_selection import train_test_split\n",
    "\n",
    "X_train, X_test, y_train, y_test = train_test_split(X, y, random_state=42, stratify=y)"
   ]
  },
  {
   "cell_type": "code",
   "execution_count": 7,
   "metadata": {},
   "outputs": [
    {
     "data": {
      "text/html": [
       "<div>\n",
       "<style scoped>\n",
       "    .dataframe tbody tr th:only-of-type {\n",
       "        vertical-align: middle;\n",
       "    }\n",
       "\n",
       "    .dataframe tbody tr th {\n",
       "        vertical-align: top;\n",
       "    }\n",
       "\n",
       "    .dataframe thead th {\n",
       "        text-align: right;\n",
       "    }\n",
       "</style>\n",
       "<table border=\"1\" class=\"dataframe\">\n",
       "  <thead>\n",
       "    <tr style=\"text-align: right;\">\n",
       "      <th></th>\n",
       "      <th>koi_fpflag_nt</th>\n",
       "      <th>koi_fpflag_ss</th>\n",
       "      <th>koi_fpflag_co</th>\n",
       "      <th>koi_fpflag_ec</th>\n",
       "      <th>koi_period</th>\n",
       "      <th>koi_period_err1</th>\n",
       "      <th>koi_period_err2</th>\n",
       "      <th>koi_time0bk</th>\n",
       "      <th>koi_time0bk_err1</th>\n",
       "      <th>koi_time0bk_err2</th>\n",
       "      <th>...</th>\n",
       "      <th>koi_steff_err2</th>\n",
       "      <th>koi_slogg</th>\n",
       "      <th>koi_slogg_err1</th>\n",
       "      <th>koi_slogg_err2</th>\n",
       "      <th>koi_srad</th>\n",
       "      <th>koi_srad_err1</th>\n",
       "      <th>koi_srad_err2</th>\n",
       "      <th>ra</th>\n",
       "      <th>dec</th>\n",
       "      <th>koi_kepmag</th>\n",
       "    </tr>\n",
       "  </thead>\n",
       "  <tbody>\n",
       "    <tr>\n",
       "      <th>6080</th>\n",
       "      <td>1</td>\n",
       "      <td>0</td>\n",
       "      <td>0</td>\n",
       "      <td>0</td>\n",
       "      <td>12.496435</td>\n",
       "      <td>2.213000e-04</td>\n",
       "      <td>-2.213000e-04</td>\n",
       "      <td>132.035800</td>\n",
       "      <td>0.014300</td>\n",
       "      <td>-0.014300</td>\n",
       "      <td>...</td>\n",
       "      <td>-286</td>\n",
       "      <td>3.805</td>\n",
       "      <td>0.390</td>\n",
       "      <td>-0.130</td>\n",
       "      <td>2.730</td>\n",
       "      <td>0.535</td>\n",
       "      <td>-1.248</td>\n",
       "      <td>289.23080</td>\n",
       "      <td>44.412483</td>\n",
       "      <td>13.054</td>\n",
       "    </tr>\n",
       "    <tr>\n",
       "      <th>3001</th>\n",
       "      <td>0</td>\n",
       "      <td>0</td>\n",
       "      <td>0</td>\n",
       "      <td>0</td>\n",
       "      <td>11.615625</td>\n",
       "      <td>1.528000e-04</td>\n",
       "      <td>-1.528000e-04</td>\n",
       "      <td>131.968430</td>\n",
       "      <td>0.008230</td>\n",
       "      <td>-0.008230</td>\n",
       "      <td>...</td>\n",
       "      <td>-72</td>\n",
       "      <td>4.083</td>\n",
       "      <td>0.368</td>\n",
       "      <td>-0.092</td>\n",
       "      <td>1.453</td>\n",
       "      <td>0.218</td>\n",
       "      <td>-0.510</td>\n",
       "      <td>293.52756</td>\n",
       "      <td>41.111439</td>\n",
       "      <td>15.162</td>\n",
       "    </tr>\n",
       "    <tr>\n",
       "      <th>570</th>\n",
       "      <td>0</td>\n",
       "      <td>1</td>\n",
       "      <td>0</td>\n",
       "      <td>0</td>\n",
       "      <td>10.980246</td>\n",
       "      <td>6.930000e-07</td>\n",
       "      <td>-6.930000e-07</td>\n",
       "      <td>137.137607</td>\n",
       "      <td>0.000053</td>\n",
       "      <td>-0.000053</td>\n",
       "      <td>...</td>\n",
       "      <td>-159</td>\n",
       "      <td>4.462</td>\n",
       "      <td>0.098</td>\n",
       "      <td>-0.182</td>\n",
       "      <td>0.897</td>\n",
       "      <td>0.238</td>\n",
       "      <td>-0.119</td>\n",
       "      <td>282.79764</td>\n",
       "      <td>43.578129</td>\n",
       "      <td>14.212</td>\n",
       "    </tr>\n",
       "    <tr>\n",
       "      <th>4897</th>\n",
       "      <td>1</td>\n",
       "      <td>0</td>\n",
       "      <td>0</td>\n",
       "      <td>0</td>\n",
       "      <td>466.908240</td>\n",
       "      <td>1.194000e-02</td>\n",
       "      <td>-1.194000e-02</td>\n",
       "      <td>136.373100</td>\n",
       "      <td>0.019000</td>\n",
       "      <td>-0.019000</td>\n",
       "      <td>...</td>\n",
       "      <td>-146</td>\n",
       "      <td>4.456</td>\n",
       "      <td>0.102</td>\n",
       "      <td>-0.361</td>\n",
       "      <td>0.867</td>\n",
       "      <td>0.448</td>\n",
       "      <td>-0.103</td>\n",
       "      <td>297.65436</td>\n",
       "      <td>43.178551</td>\n",
       "      <td>15.202</td>\n",
       "    </tr>\n",
       "    <tr>\n",
       "      <th>625</th>\n",
       "      <td>0</td>\n",
       "      <td>1</td>\n",
       "      <td>1</td>\n",
       "      <td>1</td>\n",
       "      <td>1.061933</td>\n",
       "      <td>1.250000e-06</td>\n",
       "      <td>-1.250000e-06</td>\n",
       "      <td>133.850441</td>\n",
       "      <td>0.000978</td>\n",
       "      <td>-0.000978</td>\n",
       "      <td>...</td>\n",
       "      <td>-167</td>\n",
       "      <td>3.975</td>\n",
       "      <td>0.259</td>\n",
       "      <td>-0.111</td>\n",
       "      <td>1.851</td>\n",
       "      <td>0.383</td>\n",
       "      <td>-0.575</td>\n",
       "      <td>288.90253</td>\n",
       "      <td>44.632992</td>\n",
       "      <td>12.953</td>\n",
       "    </tr>\n",
       "  </tbody>\n",
       "</table>\n",
       "<p>5 rows × 40 columns</p>\n",
       "</div>"
      ],
      "text/plain": [
       "      koi_fpflag_nt  koi_fpflag_ss  koi_fpflag_co  koi_fpflag_ec  koi_period  \\\n",
       "6080              1              0              0              0   12.496435   \n",
       "3001              0              0              0              0   11.615625   \n",
       "570               0              1              0              0   10.980246   \n",
       "4897              1              0              0              0  466.908240   \n",
       "625               0              1              1              1    1.061933   \n",
       "\n",
       "      koi_period_err1  koi_period_err2  koi_time0bk  koi_time0bk_err1  \\\n",
       "6080     2.213000e-04    -2.213000e-04   132.035800          0.014300   \n",
       "3001     1.528000e-04    -1.528000e-04   131.968430          0.008230   \n",
       "570      6.930000e-07    -6.930000e-07   137.137607          0.000053   \n",
       "4897     1.194000e-02    -1.194000e-02   136.373100          0.019000   \n",
       "625      1.250000e-06    -1.250000e-06   133.850441          0.000978   \n",
       "\n",
       "      koi_time0bk_err2  ...  koi_steff_err2  koi_slogg  koi_slogg_err1  \\\n",
       "6080         -0.014300  ...            -286      3.805           0.390   \n",
       "3001         -0.008230  ...             -72      4.083           0.368   \n",
       "570          -0.000053  ...            -159      4.462           0.098   \n",
       "4897         -0.019000  ...            -146      4.456           0.102   \n",
       "625          -0.000978  ...            -167      3.975           0.259   \n",
       "\n",
       "      koi_slogg_err2  koi_srad  koi_srad_err1  koi_srad_err2         ra  \\\n",
       "6080          -0.130     2.730          0.535         -1.248  289.23080   \n",
       "3001          -0.092     1.453          0.218         -0.510  293.52756   \n",
       "570           -0.182     0.897          0.238         -0.119  282.79764   \n",
       "4897          -0.361     0.867          0.448         -0.103  297.65436   \n",
       "625           -0.111     1.851          0.383         -0.575  288.90253   \n",
       "\n",
       "            dec  koi_kepmag  \n",
       "6080  44.412483      13.054  \n",
       "3001  41.111439      15.162  \n",
       "570   43.578129      14.212  \n",
       "4897  43.178551      15.202  \n",
       "625   44.632992      12.953  \n",
       "\n",
       "[5 rows x 40 columns]"
      ]
     },
     "execution_count": 7,
     "metadata": {},
     "output_type": "execute_result"
    }
   ],
   "source": [
    "X_train.head()"
   ]
  },
  {
   "cell_type": "markdown",
   "metadata": {},
   "source": [
    "# Pre-processing\n",
    "\n",
    "Scale the data using the MinMaxScaler and perform some feature selection"
   ]
  },
  {
   "cell_type": "code",
   "execution_count": 8,
   "metadata": {},
   "outputs": [],
   "source": [
    "# Fit data to the MinMax Scaler\n",
    "from sklearn.preprocessing import MinMaxScaler\n",
    "\n",
    "X_scaler = MinMaxScaler().fit(X_train)"
   ]
  },
  {
   "cell_type": "code",
   "execution_count": 9,
   "metadata": {},
   "outputs": [],
   "source": [
    "X_train_scaled = X_scaler.transform(X_train)\n",
    "X_test_scaled = X_scaler.transform(X_test)"
   ]
  },
  {
   "cell_type": "markdown",
   "metadata": {},
   "source": [
    "# Train the Model\n",
    "\n"
   ]
  },
  {
   "cell_type": "code",
   "execution_count": 10,
   "metadata": {},
   "outputs": [],
   "source": [
    "from sklearn.preprocessing import LabelEncoder, StandardScaler\n",
    "from keras.utils import to_categorical\n",
    "\n",
    "# Step 1: Label-encode data set\n",
    "label_encoder = LabelEncoder()\n",
    "label_encoder.fit(y_train)\n",
    "encoded_y_train = label_encoder.transform(y_train)\n",
    "encoded_y_test = label_encoder.transform(y_test)\n",
    "\n",
    "# Step 2: Convert encoded labels to one-hot-encoding\n",
    "y_train_categorical = to_categorical(encoded_y_train)\n",
    "y_test_categorical = to_categorical(encoded_y_test)"
   ]
  },
  {
   "cell_type": "markdown",
   "metadata": {},
   "source": [
    "# Create a Deep Learning Model"
   ]
  },
  {
   "cell_type": "code",
   "execution_count": 11,
   "metadata": {},
   "outputs": [],
   "source": [
    "from keras.models import Sequential\n",
    "from keras.layers import Dense\n",
    "\n",
    "# Create the model\n",
    "model = Sequential()\n",
    "# Add two layers of nodes\n",
    "model.add(Dense(units=120, activation='relu', input_dim=40))\n",
    "model.add(Dense(units=120, activation='relu'))\n",
    "# Add the output layer\n",
    "model.add(Dense(units=3, activation='softmax'))"
   ]
  },
  {
   "cell_type": "code",
   "execution_count": 12,
   "metadata": {},
   "outputs": [],
   "source": [
    "# Compile the model\n",
    "model.compile(optimizer='adam',\n",
    "              loss='categorical_crossentropy',\n",
    "              metrics=['accuracy'])"
   ]
  },
  {
   "cell_type": "code",
   "execution_count": 13,
   "metadata": {},
   "outputs": [
    {
     "name": "stdout",
     "output_type": "stream",
     "text": [
      "Epoch 1/100\n",
      "164/164 - 6s - loss: 0.5064 - accuracy: 0.7435\n",
      "Epoch 2/100\n",
      "164/164 - 1s - loss: 0.3729 - accuracy: 0.8076\n",
      "Epoch 3/100\n",
      "164/164 - 1s - loss: 0.3520 - accuracy: 0.8201\n",
      "Epoch 4/100\n",
      "164/164 - 1s - loss: 0.3392 - accuracy: 0.8383\n",
      "Epoch 5/100\n",
      "164/164 - 1s - loss: 0.3367 - accuracy: 0.8364\n",
      "Epoch 6/100\n",
      "164/164 - 1s - loss: 0.3253 - accuracy: 0.8507\n",
      "Epoch 7/100\n",
      "164/164 - 1s - loss: 0.3207 - accuracy: 0.8467\n",
      "Epoch 8/100\n",
      "164/164 - 1s - loss: 0.3181 - accuracy: 0.8566\n",
      "Epoch 9/100\n",
      "164/164 - 1s - loss: 0.3121 - accuracy: 0.8587\n",
      "Epoch 10/100\n",
      "164/164 - 1s - loss: 0.3110 - accuracy: 0.8554\n",
      "Epoch 11/100\n",
      "164/164 - 1s - loss: 0.3007 - accuracy: 0.8688\n",
      "Epoch 12/100\n",
      "164/164 - 1s - loss: 0.3061 - accuracy: 0.8650\n",
      "Epoch 13/100\n",
      "164/164 - 1s - loss: 0.3044 - accuracy: 0.8556\n",
      "Epoch 14/100\n",
      "164/164 - 1s - loss: 0.3020 - accuracy: 0.8709\n",
      "Epoch 15/100\n",
      "164/164 - 1s - loss: 0.2983 - accuracy: 0.8699\n",
      "Epoch 16/100\n",
      "164/164 - 1s - loss: 0.2939 - accuracy: 0.8688\n",
      "Epoch 17/100\n",
      "164/164 - 0s - loss: 0.2874 - accuracy: 0.8756\n",
      "Epoch 18/100\n",
      "164/164 - 1s - loss: 0.2967 - accuracy: 0.8684\n",
      "Epoch 19/100\n",
      "164/164 - 0s - loss: 0.2888 - accuracy: 0.8730\n",
      "Epoch 20/100\n",
      "164/164 - 0s - loss: 0.2947 - accuracy: 0.8722\n",
      "Epoch 21/100\n",
      "164/164 - 0s - loss: 0.2828 - accuracy: 0.8726\n",
      "Epoch 22/100\n",
      "164/164 - 0s - loss: 0.2819 - accuracy: 0.8789\n",
      "Epoch 23/100\n",
      "164/164 - 0s - loss: 0.2756 - accuracy: 0.8785\n",
      "Epoch 24/100\n",
      "164/164 - 0s - loss: 0.2795 - accuracy: 0.8796\n",
      "Epoch 25/100\n",
      "164/164 - 1s - loss: 0.2793 - accuracy: 0.8777\n",
      "Epoch 26/100\n",
      "164/164 - 1s - loss: 0.2779 - accuracy: 0.8795\n",
      "Epoch 27/100\n",
      "164/164 - 1s - loss: 0.2785 - accuracy: 0.8776\n",
      "Epoch 28/100\n",
      "164/164 - 0s - loss: 0.2746 - accuracy: 0.8806\n",
      "Epoch 29/100\n",
      "164/164 - 0s - loss: 0.2760 - accuracy: 0.8772\n",
      "Epoch 30/100\n",
      "164/164 - 0s - loss: 0.2798 - accuracy: 0.8779\n",
      "Epoch 31/100\n",
      "164/164 - 0s - loss: 0.2702 - accuracy: 0.8861\n",
      "Epoch 32/100\n",
      "164/164 - 1s - loss: 0.2651 - accuracy: 0.8875\n",
      "Epoch 33/100\n",
      "164/164 - 0s - loss: 0.2671 - accuracy: 0.8825\n",
      "Epoch 34/100\n",
      "164/164 - 0s - loss: 0.2689 - accuracy: 0.8816\n",
      "Epoch 35/100\n",
      "164/164 - 0s - loss: 0.2692 - accuracy: 0.8852\n",
      "Epoch 36/100\n",
      "164/164 - 1s - loss: 0.2644 - accuracy: 0.8833\n",
      "Epoch 37/100\n",
      "164/164 - 0s - loss: 0.2641 - accuracy: 0.8856\n",
      "Epoch 38/100\n",
      "164/164 - 0s - loss: 0.2572 - accuracy: 0.8913\n",
      "Epoch 39/100\n",
      "164/164 - 0s - loss: 0.2687 - accuracy: 0.8785\n",
      "Epoch 40/100\n",
      "164/164 - 0s - loss: 0.2603 - accuracy: 0.8861\n",
      "Epoch 41/100\n",
      "164/164 - 0s - loss: 0.2570 - accuracy: 0.8888\n",
      "Epoch 42/100\n",
      "164/164 - 0s - loss: 0.2539 - accuracy: 0.8922\n",
      "Epoch 43/100\n",
      "164/164 - 0s - loss: 0.2596 - accuracy: 0.8861\n",
      "Epoch 44/100\n",
      "164/164 - 0s - loss: 0.2563 - accuracy: 0.8890\n",
      "Epoch 45/100\n",
      "164/164 - 0s - loss: 0.2505 - accuracy: 0.8892\n",
      "Epoch 46/100\n",
      "164/164 - 0s - loss: 0.2550 - accuracy: 0.8880\n",
      "Epoch 47/100\n",
      "164/164 - 0s - loss: 0.2533 - accuracy: 0.8909\n",
      "Epoch 48/100\n",
      "164/164 - 1s - loss: 0.2495 - accuracy: 0.8940\n",
      "Epoch 49/100\n",
      "164/164 - 1s - loss: 0.2536 - accuracy: 0.8903\n",
      "Epoch 50/100\n",
      "164/164 - 1s - loss: 0.2501 - accuracy: 0.8892\n",
      "Epoch 51/100\n",
      "164/164 - 0s - loss: 0.2454 - accuracy: 0.8962\n",
      "Epoch 52/100\n",
      "164/164 - 0s - loss: 0.2471 - accuracy: 0.8909\n",
      "Epoch 53/100\n",
      "164/164 - 0s - loss: 0.2494 - accuracy: 0.8877\n",
      "Epoch 54/100\n",
      "164/164 - 0s - loss: 0.2454 - accuracy: 0.8941\n",
      "Epoch 55/100\n",
      "164/164 - 0s - loss: 0.2448 - accuracy: 0.8919\n",
      "Epoch 56/100\n",
      "164/164 - 0s - loss: 0.2430 - accuracy: 0.8955\n",
      "Epoch 57/100\n",
      "164/164 - 0s - loss: 0.2455 - accuracy: 0.8959\n",
      "Epoch 58/100\n",
      "164/164 - 0s - loss: 0.2427 - accuracy: 0.8962\n",
      "Epoch 59/100\n",
      "164/164 - 0s - loss: 0.2441 - accuracy: 0.8955\n",
      "Epoch 60/100\n",
      "164/164 - 0s - loss: 0.2443 - accuracy: 0.8922\n",
      "Epoch 61/100\n",
      "164/164 - 0s - loss: 0.2486 - accuracy: 0.8873\n",
      "Epoch 62/100\n",
      "164/164 - 0s - loss: 0.2401 - accuracy: 0.8962\n",
      "Epoch 63/100\n",
      "164/164 - 0s - loss: 0.2423 - accuracy: 0.8945\n",
      "Epoch 64/100\n",
      "164/164 - 0s - loss: 0.2376 - accuracy: 0.8957\n",
      "Epoch 65/100\n",
      "164/164 - 0s - loss: 0.2366 - accuracy: 0.8930\n",
      "Epoch 66/100\n",
      "164/164 - 0s - loss: 0.2385 - accuracy: 0.8943\n",
      "Epoch 67/100\n",
      "164/164 - 1s - loss: 0.2421 - accuracy: 0.8936\n",
      "Epoch 68/100\n",
      "164/164 - 1s - loss: 0.2353 - accuracy: 0.8970\n",
      "Epoch 69/100\n",
      "164/164 - 1s - loss: 0.2323 - accuracy: 0.8985\n",
      "Epoch 70/100\n",
      "164/164 - 1s - loss: 0.2330 - accuracy: 0.9027\n",
      "Epoch 71/100\n",
      "164/164 - 0s - loss: 0.2379 - accuracy: 0.8951\n",
      "Epoch 72/100\n",
      "164/164 - 0s - loss: 0.2369 - accuracy: 0.8951\n",
      "Epoch 73/100\n",
      "164/164 - 0s - loss: 0.2350 - accuracy: 0.8974\n",
      "Epoch 74/100\n",
      "164/164 - 0s - loss: 0.2367 - accuracy: 0.8976\n",
      "Epoch 75/100\n",
      "164/164 - 0s - loss: 0.2322 - accuracy: 0.9016\n",
      "Epoch 76/100\n",
      "164/164 - 0s - loss: 0.2323 - accuracy: 0.9004\n",
      "Epoch 77/100\n",
      "164/164 - 0s - loss: 0.2320 - accuracy: 0.9023\n",
      "Epoch 78/100\n",
      "164/164 - 0s - loss: 0.2329 - accuracy: 0.8961\n",
      "Epoch 79/100\n",
      "164/164 - 0s - loss: 0.2301 - accuracy: 0.8951\n",
      "Epoch 80/100\n",
      "164/164 - 0s - loss: 0.2310 - accuracy: 0.9002\n",
      "Epoch 81/100\n",
      "164/164 - 0s - loss: 0.2287 - accuracy: 0.9004\n",
      "Epoch 82/100\n",
      "164/164 - 0s - loss: 0.2298 - accuracy: 0.9016\n",
      "Epoch 83/100\n",
      "164/164 - 0s - loss: 0.2268 - accuracy: 0.9033\n",
      "Epoch 84/100\n",
      "164/164 - 1s - loss: 0.2316 - accuracy: 0.8983\n",
      "Epoch 85/100\n",
      "164/164 - 1s - loss: 0.2262 - accuracy: 0.9008\n",
      "Epoch 86/100\n",
      "164/164 - 0s - loss: 0.2266 - accuracy: 0.9001\n",
      "Epoch 87/100\n",
      "164/164 - 1s - loss: 0.2296 - accuracy: 0.9008\n",
      "Epoch 88/100\n",
      "164/164 - 1s - loss: 0.2281 - accuracy: 0.8999\n",
      "Epoch 89/100\n",
      "164/164 - 1s - loss: 0.2215 - accuracy: 0.9046\n",
      "Epoch 90/100\n",
      "164/164 - 1s - loss: 0.2256 - accuracy: 0.9018\n",
      "Epoch 91/100\n",
      "164/164 - 0s - loss: 0.2262 - accuracy: 0.9025\n",
      "Epoch 92/100\n",
      "164/164 - 0s - loss: 0.2210 - accuracy: 0.9029\n",
      "Epoch 93/100\n",
      "164/164 - 0s - loss: 0.2280 - accuracy: 0.9004\n",
      "Epoch 94/100\n",
      "164/164 - 0s - loss: 0.2202 - accuracy: 0.9029\n",
      "Epoch 95/100\n",
      "164/164 - 0s - loss: 0.2224 - accuracy: 0.9031\n",
      "Epoch 96/100\n",
      "164/164 - 0s - loss: 0.2240 - accuracy: 0.9022\n",
      "Epoch 97/100\n",
      "164/164 - 0s - loss: 0.2196 - accuracy: 0.9039\n",
      "Epoch 98/100\n",
      "164/164 - 0s - loss: 0.2244 - accuracy: 0.9014\n",
      "Epoch 99/100\n",
      "164/164 - 0s - loss: 0.2216 - accuracy: 0.9027\n",
      "Epoch 100/100\n",
      "164/164 - 0s - loss: 0.2168 - accuracy: 0.9039\n"
     ]
    },
    {
     "data": {
      "text/plain": [
       "<tensorflow.python.keras.callbacks.History at 0x15b1d51d190>"
      ]
     },
     "execution_count": 13,
     "metadata": {},
     "output_type": "execute_result"
    }
   ],
   "source": [
    "# Fit the model\n",
    "model.fit(\n",
    "    X_train_scaled,\n",
    "    y_train_categorical,\n",
    "    epochs=100,\n",
    "    shuffle=True,\n",
    "    verbose=2\n",
    ")"
   ]
  },
  {
   "cell_type": "markdown",
   "metadata": {},
   "source": [
    "# Quantify Model"
   ]
  },
  {
   "cell_type": "code",
   "execution_count": 15,
   "metadata": {},
   "outputs": [
    {
     "name": "stdout",
     "output_type": "stream",
     "text": [
      "55/55 - 1s - loss: 0.2622 - accuracy: 0.8890\n",
      "Normal Neural Network - Loss: 0.2622278928756714, Accuracy: 0.8890160322189331\n"
     ]
    }
   ],
   "source": [
    "model_loss, model_accuracy = model.evaluate(\n",
    "    X_test_scaled, y_test_categorical, verbose=2)\n",
    "print(\n",
    "    f\"Normal Neural Network - Loss: {model_loss}, Accuracy: {model_accuracy}\")"
   ]
  },
  {
   "cell_type": "markdown",
   "metadata": {},
   "source": [
    "# Saving a Trained Model\n",
    "We can save our trained models using the HDF5 binary format with the extension `.h5`"
   ]
  },
  {
   "cell_type": "code",
   "execution_count": 18,
   "metadata": {},
   "outputs": [],
   "source": [
    "# Save the model\n",
    "model.save(\"deep_model_trained.h5\")"
   ]
  },
  {
   "cell_type": "markdown",
   "metadata": {},
   "source": [
    "# Loading the model"
   ]
  },
  {
   "cell_type": "code",
   "execution_count": 21,
   "metadata": {},
   "outputs": [],
   "source": [
    "# Load the model\n",
    "from tensorflow.keras.models import load_model\n",
    "deep_model = load_model(\"deep_model_trained.h5\")"
   ]
  },
  {
   "cell_type": "markdown",
   "metadata": {},
   "source": [
    "# Evaluating the loaded model"
   ]
  },
  {
   "cell_type": "code",
   "execution_count": 22,
   "metadata": {},
   "outputs": [
    {
     "name": "stdout",
     "output_type": "stream",
     "text": [
      "55/55 - 1s - loss: 0.2622 - accuracy: 0.8890\n",
      "Normal Neural Network - Loss: 0.2622278928756714, Accuracy: 0.8890160322189331\n"
     ]
    }
   ],
   "source": [
    "model_loss, model_accuracy = deep_model.evaluate(\n",
    "    X_test_scaled, y_test_categorical, verbose=2)\n",
    "print(\n",
    "    f\"Normal Neural Network - Loss: {model_loss}, Accuracy: {model_accuracy}\")"
   ]
  },
  {
   "cell_type": "markdown",
   "metadata": {},
   "source": [
    "# Make predictions"
   ]
  },
  {
   "cell_type": "code",
   "execution_count": 23,
   "metadata": {},
   "outputs": [],
   "source": [
    "encoded_predictions = deep_model.predict_classes(X_test_scaled[:5])\n",
    "prediction_labels = label_encoder.inverse_transform(encoded_predictions)"
   ]
  },
  {
   "cell_type": "code",
   "execution_count": 24,
   "metadata": {},
   "outputs": [
    {
     "name": "stdout",
     "output_type": "stream",
     "text": [
      "Predicted classes: ['CANDIDATE' 'False_Positive' 'False_Positive' 'False_Positive'\n",
      " 'CANDIDATE']\n",
      "Actual Labels: ['CANDIDATE', 'False_Positive', 'False_Positive', 'False_Positive', 'CANDIDATE']\n"
     ]
    }
   ],
   "source": [
    "print(f\"Predicted classes: {prediction_labels}\")\n",
    "print(f\"Actual Labels: {list(y_test[:5])}\")"
   ]
  }
 ],
 "metadata": {
  "kernel_info": {
   "name": "dev"
  },
  "kernelspec": {
   "display_name": "Python 3",
   "language": "python",
   "name": "python3"
  },
  "language_info": {
   "codemirror_mode": {
    "name": "ipython",
    "version": 3
   },
   "file_extension": ".py",
   "mimetype": "text/x-python",
   "name": "python",
   "nbconvert_exporter": "python",
   "pygments_lexer": "ipython3",
   "version": "3.8.3"
  },
  "nteract": {
   "version": "0.12.3"
  }
 },
 "nbformat": 4,
 "nbformat_minor": 4
}
